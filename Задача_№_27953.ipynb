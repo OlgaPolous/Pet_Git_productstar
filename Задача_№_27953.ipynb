    {
      "cell_type": "code",
      "source": [
        "import numpy as np\n",
        "\n",
        "    # Список возможных длин рельсов\n",
        "  rail_lengths = np.random.randint(6, 17, 10)  # Случайные длины от 6 до 16 м\n",
        "\n",
        "  # Коэффициент теплового расширения (наименее точное значение)\n",
        "  alpha = 12e-6  # м/°C\n",
        "\n",
        "  # Определяем начальную длину рельса\n",
        "initial_length = np.mean(rail_lengths)  # Используем среднюю длину из списка\n",
        "\n",
        "def calculate_length(t):\n",
        "    return initial_length + alpha * t * initial_length\n",
        "\n",
        "  def zadanie_ege():\n",
        "    return (\n",
        "        \"При температуре 0°C рельс имеет длину {initial_length} м.\\n\"\n",
        "        \"При возрастании температуры происходит тепловое расширение рельса, и его длина, выраженная в метрах, меняется по закону:\\n\"\n",
        "        \"l = l₀ (1 + αT)\\n\"\n",
        "        \"Где:\\n\"\n",
        "        \"l - текущая длина рельса\\n\"\n",
        "        \"l₀ - исходная длина рельса\\n\"\n",
        "        \"α - коэффициент теплового расширения\\n\"\n",
        "        \"t - температура в градусах Цельсия\"\n",
        "    )\n",
        "\n",
        "def generate_rail_task():\n",
        "    delta_l = np.random.choice(rail_lengths) / 1000  # Выбор удлинения в метрах\n",
        "    correct_answer = delta_l / (alpha * initial_length)\n",
        "    return delta_l, correct_answer\n",
        "\n",
        "def play_game():\n",
        "    while True:\n",
        "        delta_l, correct_answer = generate_rail_task()\n",
        "        print(zadanie_ege())  # Использование задanie_ege вместо task_description\n",
        "        user_answer = float(input(f\"\\nПри какой температуре рельс удлинится на {delta_l * 1000:.2f} мм? \"))\n",
        "\n",
        "        if abs(user_answer - correct_answer) < 0.01:\n",
        "            return \"Ответ верный!\\nХотите сгенерировать новую задачу? (да/нет): \"\n",
        "        else:\n",
        "            return f\"Попробуйте еще раз! Правильный ответ: {correct_answer:.2f}°C\\nХотите сгенерировать новую задачу? (да/нет): \"\n",
        "\n",
        "result = play_game()\n",
        "print(result)\n"
      ],
      "metadata": {
        "id": "Wq1no7lMGQ70"
      },
      "execution_count": null,
      "outputs": []
    }
  ],
  "metadata": {
    "colab": {
      "provenance": [],
      "include_colab_link": true
    },
    "kernelspec": {
      "display_name": "Python 3",
      "name": "python3"
    },
    "language_info": {
      "name": "python"
    }
  },
  "nbformat": 4,
  "nbformat_minor": 0
}