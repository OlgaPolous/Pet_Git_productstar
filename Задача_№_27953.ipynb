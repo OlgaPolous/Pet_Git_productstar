{
  "cells": [
    {
      "cell_type": "markdown",
      "metadata": {
        "id": "view-in-github",
        "colab_type": "text"
      },
      "source": [
        "<a href=\"https://colab.research.google.com/github/OlgaPolous/Pet_Git_productstar/blob/main/%D0%97%D0%B0%D0%B4%D0%B0%D1%87%D0%B0_%E2%84%96_27953.ipynb\" target=\"_parent\"><img src=\"https://colab.research.google.com/assets/colab-badge.svg\" alt=\"Open In Colab\"/></a>"
      ]
    },
    {
      "cell_type": "code",
      "execution_count": null,
      "metadata": {
        "id": "Y3re74XOO0cI"
      },
      "outputs": [],
      "source": [
        "import numpy as np\n",
        "\n",
        "# Список возможных длин рельсов\n",
        "rail_lengths = np.random.randint(6, 17, 10)  # Случайные длины от 6 до 16 м\n",
        "\n",
        "# Коэффициент теплового расширения (наименее точное значение)\n",
        "alpha = 12e-6  # м/°C\n",
        "\n",
        "# Определяем начальную длину рельса\n",
        "initial_length = np.mean(rail_lengths)  # Используем среднюю длину из списка\n",
        "\n",
        "def calculate_length(t):\n",
        "    return initial_length + alpha * t * initial_length\n",
        "\n",
        "print(\"\\nЗадача:\")\n",
        "print(f\"При температуре 0°C рельс имеет длину {initial_length} м.\")\n",
        "print(\"При возрастании температуры происходит тепловое расширение рельса, и его длина, выраженная в метрах, меняется по закону:\")\n",
        "print(\"l = l₀ (1 + αT)\")\n",
        "print(\"Где:\")\n",
        "print(\"l - текущая длина рельса\")\n",
        "print(\"l₀ - исходная длина рельса\")\n",
        "print(\"α - коэффициент теплового расширения\")\n",
        "print(\"t - температура в градусах Цельсия\")\n",
        "\n",
        "# Выбор удлинения рельса из списка в диапазоне от 2 до 6 мм\n",
        "delta_l = np.random.choice(rail_lengths) / 1000  # Выбор удлинения в метрах\n",
        "\n",
        "# Решение уравнения для определения температуры при удлинении рельса на заданное значение\n",
        "correct_answer = delta_l / (alpha * initial_length)\n",
        "\n",
        "while True:\n",
        "    try:\n",
        "        user_answer = float(input(f\"\\nПри какой температуре рельс удлинится на {delta_l * 1000:.2f} мм? \"))\n",
        "\n",
        "        if abs(user_answer - correct_answer) < 0.01:\n",
        "            print(\"\\nОтвет верный!\")\n",
        "            play_again = input(\"Хотите сгенерировать новую задачу? (да/нет): \").lower()\n",
        "            if play_again == 'да':\n",
        "                break\n",
        "        else:\n",
        "            print(f\"\\nПопробуйте еще раз! Правильный ответ: {correct_answer:.2f}°C\")\n",
        "\n",
        "    except ValueError:\n",
        "        print(\"\\nНеверный ввод. Пожалуйста, введите число.\")"
      ]
    },
    {
      "cell_type": "code",
      "source": [
        "import numpy as np\n",
        "\n",
        "    # Список возможных длин рельсов\n",
        "  rail_lengths = np.random.randint(6, 17, 10)  # Случайные длины от 6 до 16 м\n",
        "\n",
        "  # Коэффициент теплового расширения (наименее точное значение)\n",
        "  alpha = 12e-6  # м/°C\n",
        "\n",
        "  # Определяем начальную длину рельса\n",
        "initial_length = np.mean(rail_lengths)  # Используем среднюю длину из списка\n",
        "\n",
        "def calculate_length(t):\n",
        "    return initial_length + alpha * t * initial_length\n",
        "\n",
        "  def zadanie_ege():\n",
        "    return (\n",
        "        \"При температуре 0°C рельс имеет длину {initial_length} м.\\n\"\n",
        "        \"При возрастании температуры происходит тепловое расширение рельса, и его длина, выраженная в метрах, меняется по закону:\\n\"\n",
        "        \"l = l₀ (1 + αT)\\n\"\n",
        "        \"Где:\\n\"\n",
        "        \"l - текущая длина рельса\\n\"\n",
        "        \"l₀ - исходная длина рельса\\n\"\n",
        "        \"α - коэффициент теплового расширения\\n\"\n",
        "        \"t - температура в градусах Цельсия\"\n",
        "    )\n",
        "\n",
        "def generate_rail_task():\n",
        "    delta_l = np.random.choice(rail_lengths) / 1000  # Выбор удлинения в метрах\n",
        "    correct_answer = delta_l / (alpha * initial_length)\n",
        "    return delta_l, correct_answer\n",
        "\n",
        "def play_game():\n",
        "    while True:\n",
        "        delta_l, correct_answer = generate_rail_task()\n",
        "        print(zadanie_ege())  # Использование задanie_ege вместо task_description\n",
        "        user_answer = float(input(f\"\\nПри какой температуре рельс удлинится на {delta_l * 1000:.2f} мм? \"))\n",
        "\n",
        "        if abs(user_answer - correct_answer) < 0.01:\n",
        "            return \"Ответ верный!\\nХотите сгенерировать новую задачу? (да/нет): \"\n",
        "        else:\n",
        "            return f\"Попробуйте еще раз! Правильный ответ: {correct_answer:.2f}°C\\nХотите сгенерировать новую задачу? (да/нет): \"\n",
        "\n",
        "result = play_game()\n",
        "print(result)\n"
      ],
      "metadata": {
        "id": "Wq1no7lMGQ70"
      },
      "execution_count": null,
      "outputs": []
    }
  ],
  "metadata": {
    "colab": {
      "provenance": [],
      "include_colab_link": true
    },
    "kernelspec": {
      "display_name": "Python 3",
      "name": "python3"
    },
    "language_info": {
      "name": "python"
    }
  },
  "nbformat": 4,
  "nbformat_minor": 0
}